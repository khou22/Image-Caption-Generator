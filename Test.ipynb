{
 "cells": [
  {
   "cell_type": "code",
   "execution_count": 22,
   "metadata": {},
   "outputs": [],
   "source": [
    "import numpy as np\n",
    "from PIL import Image\n",
    "from pickle import load\n",
    "import matplotlib.pyplot as plt\n",
    "from keras.models import load_model\n",
    "from keras.preprocessing.image import load_img, img_to_array\n",
    "from utils.model import CNNModel, generate_caption_beam_search\n",
    "import os\n",
    "from utils.timer import Timer\n",
    "from config import config"
   ]
  },
  {
   "cell_type": "code",
   "execution_count": 3,
   "metadata": {},
   "outputs": [],
   "source": [
    "\"\"\"\n",
    "    *Some simple checking\n",
    "\"\"\"\n",
    "assert type(config['max_length']) is int, 'Please provide an integer value for `max_length` parameter in config.py file'\n",
    "assert type(config['beam_search_k']) is int, 'Please provide an integer value for `beam_search_k` parameter in config.py file'\n",
    "\n",
    "# Extract features from each image in the directory\n",
    "def extract_features(filename, model, model_type):\n",
    "    if model_type == 'inceptionv3':\n",
    "        from keras.applications.inception_v3 import preprocess_input\n",
    "        target_size = (299, 299)\n",
    "    elif model_type == 'vgg16':\n",
    "        from keras.applications.vgg16 import preprocess_input\n",
    "        target_size = (224, 224)\n",
    "    # Loading and resizing image\n",
    "    image = load_img(filename, target_size=target_size)\n",
    "    # Convert the image pixels to a numpy array\n",
    "    image = img_to_array(image)\n",
    "    # Reshape data for the model\n",
    "    image = image.reshape((1, image.shape[0], image.shape[1], image.shape[2]))\n",
    "    # Prepare the image for the CNN Model model\n",
    "    image = preprocess_input(image)\n",
    "    # Pass image into model to get encoded features\n",
    "    features = model.predict(image, verbose=0)\n",
    "    return features"
   ]
  },
  {
   "cell_type": "code",
   "execution_count": 23,
   "metadata": {},
   "outputs": [],
   "source": [
    "timer = Timer()"
   ]
  },
  {
   "cell_type": "code",
   "execution_count": 5,
   "metadata": {},
   "outputs": [],
   "source": [
    "# Load the tokenizer\n",
    "tokenizer_path = config['tokenizer_path']\n",
    "tokenizer = load(open(tokenizer_path, 'rb'))\n",
    "\n",
    "# Max sequence length (from training)\n",
    "max_length = config['max_length']"
   ]
  },
  {
   "cell_type": "code",
   "execution_count": 24,
   "metadata": {},
   "outputs": [
    {
     "name": "stdout",
     "output_type": "stream",
     "text": [
      "Model Load Time: -11\n"
     ]
    }
   ],
   "source": [
    "timer.start('Model Load')\n",
    "\n",
    "# Load the model\n",
    "caption_model = load_model(config['model_load_path'])\n",
    "\n",
    "# Load image model\n",
    "image_model = CNNModel(config['model_type'])\n",
    "\n",
    "print(\"Model Load Time: %d\" % timer.end('Model Load'))"
   ]
  },
  {
   "cell_type": "code",
   "execution_count": 26,
   "metadata": {},
   "outputs": [
    {
     "name": "stdout",
     "output_type": "stream",
     "text": [
      "Image Analysis Time: -2\n"
     ]
    }
   ],
   "source": [
    "timer.start('Image Analysis')\n",
    "\n",
    "image_features = extract_features(config['test_data_path']+'new-york-street.jpg', image_model, config['model_type'])\n",
    "generated_caption_seq = generate_caption_beam_search(caption_model, tokenizer, image_features, max_length, beam_index=config['beam_search_k'])\n",
    "generated_caption = ' '.join(generated_caption_seq.split()[2:len(generated_caption_seq.split())-1])\n",
    "\n",
    "print(\"Image Analysis Time: %d\" % timer.end('Image Analysis'))"
   ]
  },
  {
   "cell_type": "code",
   "execution_count": null,
   "metadata": {},
   "outputs": [],
   "source": []
  }
 ],
 "metadata": {
  "kernelspec": {
   "display_name": "Python 3",
   "language": "python",
   "name": "python3"
  },
  "language_info": {
   "codemirror_mode": {
    "name": "ipython",
    "version": 3
   },
   "file_extension": ".py",
   "mimetype": "text/x-python",
   "name": "python",
   "nbconvert_exporter": "python",
   "pygments_lexer": "ipython3",
   "version": "3.7.3"
  }
 },
 "nbformat": 4,
 "nbformat_minor": 2
}
